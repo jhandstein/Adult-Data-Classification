{
  "nbformat": 4,
  "nbformat_minor": 0,
  "metadata": {
    "colab": {
      "name": "ML_Project2.ipynb",
      "provenance": [],
      "collapsed_sections": [
        "B4Yu0iI6PJOd"
      ]
    },
    "kernelspec": {
      "name": "python3",
      "display_name": "Python 3"
    },
    "language_info": {
      "name": "python"
    }
  },
  "cells": [
    {
      "cell_type": "markdown",
      "metadata": {
        "id": "via0aC4ncpV9"
      },
      "source": [
        "\n",
        "\n",
        "#**1. The 'Adult' dataset**:\n",
        "Importing the data:\n",
        "\n"
      ]
    },
    {
      "cell_type": "code",
      "execution_count": null,
      "metadata": {
        "id": "whRODIXbcnDp"
      },
      "outputs": [],
      "source": [
        "import pandas as pd\n",
        "import numpy as np\n",
        "import seaborn as sns\n",
        "import matplotlib.pyplot as plt\n",
        "%matplotlib inline\n",
        "\n",
        "import scipy\n",
        "from scipy.stats import boxcox\n",
        "from sklearn.preprocessing import StandardScaler, RobustScaler, PowerTransformer\n",
        "\n",
        "#opening the adult dataset\n",
        "# Note: header=None prevents that the first entry is automatically registered as the column names\n",
        "df=pd.read_csv(r'https://archive.ics.uci.edu/ml/machine-learning-databases/adult/adult.data', header=None)\n",
        "\n",
        "#Manually inserting what each column represents (according to adult.names file)\n",
        "df.columns=['age','workclass','fnlwgt','education','education-num','marital-status','occupation','relationship','race','sex','capital-gain','capital-loss','hours-per-week','native-country','income']\n",
        "\n",
        "# df.head()"
      ]
    },
    {
      "cell_type": "code",
      "source": [
        "#Divide data into input (X) and outcome (y)\n",
        "X=df.drop('income',1)\n",
        "y=[0 if i== ' <=50K' else 1 for i in df['income']]"
      ],
      "metadata": {
        "id": "l-K5jbhT594a"
      },
      "execution_count": null,
      "outputs": []
    },
    {
      "cell_type": "markdown",
      "metadata": {
        "id": "B4Yu0iI6PJOd"
      },
      "source": [
        "#**Data Analysis and Preprocessing**\n",
        "\n"
      ]
    },
    {
      "cell_type": "code",
      "metadata": {
        "id": "dT-QdJjG1ePk"
      },
      "source": [
        "#Divide data into input (X) and outcome (y)\n",
        "X=df.drop('income',1)\n",
        "y=[0 if i== ' <=50K' else 1 for i in df['income']]"
      ],
      "execution_count": null,
      "outputs": []
    },
    {
      "cell_type": "code",
      "metadata": {
        "id": "5XZrwHqJh9Ei"
      },
      "source": [
        "# Creating a list of columns with categorical data and a list with numerical data:\n",
        "def object_cols(df):\n",
        "    return list(df.select_dtypes(include='object').columns)\n",
        "\n",
        "def numerical_cols(df):\n",
        "    return list(df.select_dtypes(exclude='object').columns)\n",
        "\n",
        "obj_c = object_cols(df)\n",
        "num_c = numerical_cols(df)"
      ],
      "execution_count": null,
      "outputs": []
    },
    {
      "cell_type": "code",
      "metadata": {
        "id": "-DUkJdB0ph-t",
        "colab": {
          "base_uri": "https://localhost:8080/"
        },
        "outputId": "cbf22b30-ce9d-4daf-8484-5ed990e68926"
      },
      "source": [
        "#Analysing the dataset\n",
        "num_c"
      ],
      "execution_count": null,
      "outputs": [
        {
          "output_type": "execute_result",
          "data": {
            "text/plain": [
              "['age',\n",
              " 'fnlwgt',\n",
              " 'education-num',\n",
              " 'capital-gain',\n",
              " 'capital-loss',\n",
              " 'hours-per-week']"
            ]
          },
          "metadata": {},
          "execution_count": 5
        }
      ]
    },
    {
      "cell_type": "markdown",
      "metadata": {
        "id": "-Z0d6CVBxBJN"
      },
      "source": [
        "**NUMERICAL FEATURES**\n",
        "\n",
        "The following preprocessing options were tested on the data, and the one which transformed the data to fit most a normal distribution was also applied.\n",
        "\n",
        ">StandardScaler: Standardize features by removing the mean and scaling to unit variance; cannot guarantee balanced feature scales in the presence of outliers.\n",
        "\n",
        "\n",
        ">RobustScaler: removes the median and scales the data according to the quantile range, robust to outliers\n",
        "\n",
        ">PowerTransformer: Apply a power transform featurewise to make data more Gaussian-like.  This is useful for modeling issues related to heteroscedasticity (non-constant variance), or other situations where normality is desired. The optimal parameter for stabilizing variance and minimizing skewness is estimated through maximum likelihood. By default, zero-mean, unit-variance normalization is applied.\n",
        ">>Box-Cox transform: requires input data to be strictly positive. Default (for λ=0) Box-Cox is the logarithmic function.\\\n",
        ">>Yeo-Johnson transform (default): supports both positive or negative data.\n",
        "\n",
        "For heavily right skewd data (columns capital-gain and capital-loss) the following transformations were also tested: \\\n",
        ">square root \\\n",
        ">log (unpractical if there are values equal to zero; solution: add a very small constant c=0.1) \\\n",
        ">sinh \n",
        "\n",
        "None of these transformations resulted in a satisfactory data, thus capital-gain and capital-loss have been merged into net-capital,which resembled more a normal distribution.\n"
      ]
    },
    {
      "cell_type": "code",
      "metadata": {
        "id": "6KYkI_Hd1h_n",
        "cellView": "code"
      },
      "source": [
        "#A function used to describing data\n",
        "def describe (data):\n",
        "  print ('Characteristics:\\nmean {} \\nmedian {} \\nskewness {} \\nstand. deviation {}'.format(np.mean(data), np.median(data), scipy.stats.skew(data), np.std(data)))\n",
        "\n",
        "\n",
        "\n",
        "\n",
        "#################################################################################################\n",
        "#Function 'trans' applies the above mentioned transformations of the data and shows a visualisation of the result.\n",
        "# The visualisations have been commented out after the appropiate transformation was chosen for each feature.\n",
        "def transf (data):\n",
        "  t = np.asarray(data)\n",
        "  t = t.reshape(-1,1)\n",
        "\n",
        "  #Standard\n",
        "  tss=StandardScaler().fit_transform(t)\n",
        "  print ('Standard Scaler:')\n",
        "  describe(tss)\n",
        "  #sns.histplot(data=tss).set(title = 'Standard')\n",
        "  #plt.show()\n",
        "  \n",
        "  #Robust \n",
        "  trs=RobustScaler().fit_transform(t)\n",
        "  print ('\\nRobust Scaler:')\n",
        "  describe(trs)\n",
        "  #sns.histplot(data=trs).set(title = 'Robust')\n",
        "  #plt.show()\n",
        "\n",
        "  #Boxcox \n",
        "  if (np.min(data)>0):\n",
        "    tboxcox=PowerTransformer(method='box-cox').fit_transform(t)\n",
        "    print ('\\nBox-Cox Transformation:')\n",
        "    describe(tboxcox)\n",
        "    #sns.histplot(data=tboxcox).set(title = 'Box-Cox')\n",
        "    #plt.show()\n",
        "  else: \n",
        "    print('\\nBox-Cox cannot be performed (data is not strictly positive)\\n\\n')\n",
        "    tboxcox=0\n",
        "\n",
        "  #Yeo-Johnson\n",
        "  tyeojohn=PowerTransformer(method='yeo-johnson').fit_transform(t)\n",
        "  print ('\\nYeo-Johnson Transformation:')\n",
        "  describe(tyeojohn)\n",
        "  #sns.histplot(tyeojohn).set(title = 'Yeo-Johnson') #COMMENT: for this data the output is similar to Box-Cox\n",
        "  #plt.show()\n",
        "\n",
        "  return (tss, trs, tboxcox,tyeojohn)\n",
        "#\n",
        "#\n",
        "#\n",
        "#\n",
        "#\n",
        "#\n",
        "###############################################################################################\n",
        "def yeojohn(data):  #only the yeojohn transformation; \n",
        "  t = np.asarray(data)\n",
        "  t = t.reshape(-1,1)\n",
        "  tyeojohn=PowerTransformer(method='yeo-johnson').fit_transform(t)\n",
        "  return tyeojohn\n",
        "\n",
        "\n",
        "\n",
        "#\n",
        "#\n",
        "#\n",
        "#\n",
        "#\n",
        "#################################################################################################################\n",
        "def hrskew(data):  ##all transformations that have been tested on the features with a very proeminent right skew\n",
        "  #Square Root (only non-negative data)\n",
        "  if np.min(data)>=0:\n",
        "    tsqrt=np.sqrt(data)\n",
        "    print ('Square Root Transformation:\\n mean {} \\nmedian {} \\nskewness {}'.format(np.mean(tsqrt), np.median(tsqrt), scipy.stats.skew(tsqrt)))\n",
        "    sns.histplot(tsqrt).set(title = 'Square Root')\n",
        "    plt.show()\n",
        "  else:\n",
        "    print ('Square root not possible due to negative values')\n",
        "    tsqrt=0\n",
        "\n",
        "  #Logarithmic function (only strictly positive data)\n",
        "  if np.min(data)>0:\n",
        "    tlog=np.log(data)\n",
        "    print ('Log Transformation:\\n mean {} \\nmedian {} \\nskewness {}'.format(np.mean(tlog), np.median(tlog), scipy.stats.skew(tlog)))\n",
        "    sns.histplot(tlog).set(title = 'Logarithmic')\n",
        "    plt.show()\n",
        "  else:\n",
        "    print ('SLogarithmic transformation not possible due to negative values or zeros')\n",
        "    tlog=0\n",
        "\n",
        "  #Logarithmic function plus constant (to avoid zeros)\n",
        "  c=0.1\n",
        "  if np.min(data)+c>0:\n",
        "    tlog2=np.log(data+c)\n",
        "    print ('Log(data+0.1):\\n mean {} \\nmedian {} \\nskewness {}'.format(np.mean(tlog2), np.median(tlog2), scipy.stats.skew(tlog2)))\n",
        "    sns.histplot(tlog2).set(title = 'Logarithmic with constant')\n",
        "    plt.show()\n",
        "  else:\n",
        "    print ('Logarithmic transformation (plus constant) not possible due to negative values')\n",
        "    tlog2=0\n",
        "\n",
        "  #Sinh transformation (overflow for big values, since it implies e^x)\n",
        "  if np.max(data)<=40:\n",
        "    tsinh=np.sinh(data)\n",
        "    print ('Hyperbolic Sine Transformation:\\n mean {} \\nmedian {} \\nskewness {}'.format(np.mean(tsinh), np.median(tsinh), scipy.stats.skew(tsinh)))\n",
        "    sns.histplot(tsinh).set(title = 'Hyperbolic sine')\n",
        "    plt.show()\n",
        "  else:\n",
        "    print ('Sinh function not possible, data too large')\n",
        "    tsinh=0\n",
        "\n",
        "  return (tsqrt, tlog, tlog2, tsinh)\n",
        "\n",
        "\n",
        "\n",
        "\n",
        "####################################################################################\n",
        "  def percentage (data): #used to calculate the distribution of the income in relation to certain features\n",
        "    return len(data[data.income==' >50K'])/len(data)"
      ],
      "execution_count": null,
      "outputs": []
    },
    {
      "cell_type": "markdown",
      "metadata": {
        "id": "RKIqLZrj1j59"
      },
      "source": [
        "\n",
        ">>**Feature: AGE**"
      ]
    },
    {
      "cell_type": "code",
      "metadata": {
        "colab": {
          "base_uri": "https://localhost:8080/",
          "height": 146
        },
        "id": "4GTtG20DbLn1",
        "outputId": "5ca6b3d2-fc5a-475c-8135-19c375eb3d41"
      },
      "source": [
        "describe (df.age)  #skewness accepted for this project: max 0.8\n",
        "\n",
        "sns.histplot(data=df, x='age', hue='income').set(title = 'Income distribution by age')\n",
        "\n",
        "plt.axvline(df['age'].mean(), color='r', linestyle='--')\n",
        "plt.axvline(df['age'].median(), color='g', linestyle='--')\n",
        "#plt.axvline(df['age'].mode(), color='b', linestyle='-')\n",
        "#plt.hist(df['age'])\n",
        "plt.show()"
      ],
      "execution_count": null,
      "outputs": [
        {
          "output_type": "stream",
          "name": "stdout",
          "text": [
            "Characteristics:\n",
            "mean 38.58164675532078 \n",
            "median 37.0 \n",
            "skewness 0.5587176292398571 \n",
            "stand. deviation 13.640223092304081\n"
          ]
        },
        {
          "output_type": "display_data",
          "data": {
            "image/png": "[encoded data removed]",
            "text/plain": [
              "<Figure size 432x288 with 1 Axes>"
            ]
          },
          "metadata": {
            "needs_background": "light"
          }
        }
      ]
    },
    {
      "cell_type": "code",
      "metadata": {
        "colab": {
          "base_uri": "https://localhost:8080/",
          "height": 569
        },
        "id": "jTW7zYJWwiKB",
        "outputId": "75513ca4-84f3-4f19-b40d-550e0215f0bf"
      },
      "source": [
        "###Transformation of age data\n",
        "\n",
        "agess, agers, ageboxcox, ageyeojohn = transf(df.age) \n",
        "\n",
        "#Selected transformation: Standard Scaler\n",
        "\n",
        "X.age=agess\n",
        "sns.histplot(data=X.age)"
      ],
      "execution_count": null,
      "outputs": [
        {
          "output_type": "stream",
          "name": "stdout",
          "text": [
            "Standard Scaler:\n",
            "Characteristics:\n",
            "mean -2.7059150282317012e-17 \n",
            "median -0.11595461046477588 \n",
            "skewness [0.55871763] \n",
            "stand. deviation 1.0\n",
            "\n",
            "Robust Scaler:\n",
            "Characteristics:\n",
            "mean 0.07908233776603912 \n",
            "median 0.0 \n",
            "skewness [0.55871763] \n",
            "stand. deviation 0.6820111546152138\n",
            "\n",
            "Box-Cox Transformation:\n",
            "Characteristics:\n",
            "mean -2.2714410910374013e-15 \n",
            "median 0.02859890439374671 \n",
            "skewness [-0.01612141] \n",
            "stand. deviation 1.0\n",
            "\n",
            "Yeo-Johnson Transformation:\n",
            "Characteristics:\n",
            "mean 1.5275326772275733e-16 \n",
            "median 0.028013720487216634 \n",
            "skewness [-0.01389758] \n",
            "stand. deviation 1.0\n"
          ]
        },
        {
          "output_type": "execute_result",
          "data": {
            "text/plain": [
              "<matplotlib.axes._subplots.AxesSubplot at 0x7f42b5b73cd0>"
            ]
          },
          "metadata": {},
          "execution_count": 8
        },
        {
          "output_type": "display_data",
          "data": {
            "image/png": "[encoded data removed]",
            "text/plain": [
              "<Figure size 432x288 with 1 Axes>"
            ]
          },
          "metadata": {
            "needs_background": "light"
          }
        }
      ]
    },
    {
      "cell_type": "markdown",
      "metadata": {
        "id": "VG_v3uqv9DOr"
      },
      "source": [
        ">>**Feature: FNLWGT**"
      ]
    },
    {
      "cell_type": "code",
      "metadata": {
        "id": "GCfAa4MAfRtE"
      },
      "source": [
        "#FNLWGT\n",
        "\n",
        "# this is the number of people the census believes the entry represents\n",
        "# no real informational value\n",
        "# no need to be used\n",
        "del X['fnlwgt']"
      ],
      "execution_count": null,
      "outputs": []
    },
    {
      "cell_type": "markdown",
      "metadata": {
        "id": "mypmJ2ZY_qLg"
      },
      "source": [
        ">>**Feature: CAPITAL-GAIN**\n",
        "\n",
        "\n",
        "\n",
        "\n"
      ]
    },
    {
      "cell_type": "code",
      "metadata": {
        "colab": {
          "base_uri": "https://localhost:8080/",
          "height": 146
        },
        "id": "nSHpCUiUBOc7",
        "outputId": "031ce75a-0108-4e33-a1a7-2b3c841c34c0"
      },
      "source": [
        "describe(df['capital-gain'])\n",
        "\n",
        "#describe(df['capital-gain']-df['capital-loss'])\n",
        "sns.histplot(data=df, x='capital-gain', hue='income')\n",
        "plt.show()"
      ],
      "execution_count": null,
      "outputs": [
        {
          "output_type": "stream",
          "name": "stdout",
          "text": [
            "Characteristics:\n",
            "mean 1077.6488437087312 \n",
            "median 0.0 \n",
            "skewness 11.953296998194332 \n",
            "stand. deviation 7385.178676946586\n"
          ]
        },
        {
          "output_type": "display_data",
          "data": {
            "image/png": "[encoded data removed]",
            "text/plain": [
              "<Figure size 432x288 with 1 Axes>"
            ]
          },
          "metadata": {
            "needs_background": "light"
          }
        }
      ]
    },
    {
      "cell_type": "code",
      "metadata": {
        "id": "Whh-j9jRDwUy"
      },
      "source": [
        "#Transformation of Capital-Gain\n",
        "\n",
        "#cg_tss, cg_trs, cg_boxcox, cg_yeojohn = transf(df['capital-gain'])"
      ],
      "execution_count": null,
      "outputs": []
    },
    {
      "cell_type": "code",
      "metadata": {
        "id": "eVcUWA6BuGJd"
      },
      "source": [
        "#None of the previous transformations reduce the skew to an acceptable value (below 0.5)\n",
        "\n",
        "#cg_sqrt, cg_log, cg_log2, cg_sinh=hrskew(df['capital-gain'])"
      ],
      "execution_count": null,
      "outputs": []
    },
    {
      "cell_type": "markdown",
      "metadata": {
        "id": "nSXVRnIH_qBy"
      },
      "source": [
        ">>**Feature: CAPITAL-LOSS**\n"
      ]
    },
    {
      "cell_type": "code",
      "metadata": {
        "colab": {
          "base_uri": "https://localhost:8080/",
          "height": 146
        },
        "id": "XYh7leu2ZkRW",
        "outputId": "9ba5d034-3546-44bc-fdf0-88cf3972952a"
      },
      "source": [
        "describe(df['capital-loss'])\n",
        "# using a logarithmic scale\n",
        "capl_plot = sns.histplot(data=df, x='capital-loss', hue='income')\n",
        "#capl_plot.set_yscale('log')"
      ],
      "execution_count": null,
      "outputs": [
        {
          "output_type": "stream",
          "name": "stdout",
          "text": [
            "Characteristics:\n",
            "mean 87.303829734959 \n",
            "median 0.0 \n",
            "skewness 4.59441745643977 \n",
            "stand. deviation 402.9540308275458\n"
          ]
        },
        {
          "output_type": "display_data",
          "data": {
            "image/png": "[encoded data removed]",
            "text/plain": [
              "<Figure size 432x288 with 1 Axes>"
            ]
          },
          "metadata": {
            "needs_background": "light"
          }
        }
      ]
    },
    {
      "cell_type": "code",
      "metadata": {
        "id": "PWxImwJGsigQ"
      },
      "source": [
        "#Transformation of Capital-Loss\n",
        "#cl_tss, cl_trs, cl_boxcox, cl_yeojohn = transf(df['capital-loss'])\n"
      ],
      "execution_count": null,
      "outputs": []
    },
    {
      "cell_type": "code",
      "metadata": {
        "id": "Vg_E-qTOAi6d"
      },
      "source": [
        "# Due to high right skewness, we also apply sqroot, log and sinh\n",
        "#cl_sqrt, cl_log, cl_log2, cl_sinh=hrskew(df['capital-loss'])"
      ],
      "execution_count": null,
      "outputs": []
    },
    {
      "cell_type": "markdown",
      "source": [
        "Due to the high right skewness of features 'capitaal-gain' and 'capital-loss', which could not be corrected even after all the above mencioned transformation, these features were deemed unusable for our classifiers. Nontheless, we merged them (by substraction) into a new feature 'net-capital' which, after undergoing a yeo-johnson transformation, was selected to be further used, as it fits a normal distribution."
      ],
      "metadata": {
        "id": "Ni_PToSO9NkA"
      }
    },
    {
      "cell_type": "code",
      "metadata": {
        "colab": {
          "base_uri": "https://localhost:8080/"
        },
        "id": "d5Nvsk6qA2rg",
        "outputId": "12c2d4a9-ecf2-4ea7-86ad-d89f3017cabe"
      },
      "source": [
        "#Capital0gain and Capital-loss cannot be user per se in the classification.\n",
        "#Creating a new feature:\n",
        "\n",
        "df['net-capital']=df['capital-gain']-df['capital-loss']\n",
        "describe(df['net-capital'])\n",
        "#nc_ss, nc_rs, nc_boxcox, nc_yeojohn=transf(df['net-capital'])\n",
        "#nc_sqrt, nc_log, nc_log2, nc_sinh=hrskew(df['net-capital'])"
      ],
      "execution_count": null,
      "outputs": [
        {
          "output_type": "stream",
          "name": "stdout",
          "text": [
            "Characteristics:\n",
            "mean 990.3450139737723 \n",
            "median 0.0 \n",
            "skewness 11.87138700308005 \n",
            "stand. deviation 7408.8731790828\n"
          ]
        }
      ]
    },
    {
      "cell_type": "code",
      "metadata": {
        "id": "deqXKZWsDEAQ",
        "colab": {
          "base_uri": "https://localhost:8080/",
          "height": 165
        },
        "outputId": "dd93ffcd-226e-40d6-f39b-3b692ab37af7"
      },
      "source": [
        "del X['capital-gain']\n",
        "del X['capital-loss']\n",
        "X['net-capital']=yeojohn(df['net-capital'])\n",
        "describe (X['net-capital'])\n",
        "sns.histplot(data=X['net-capital'])"
      ],
      "execution_count": null,
      "outputs": [
        {
          "output_type": "stream",
          "name": "stdout",
          "text": [
            "Characteristics:\n",
            "mean -8.748056894320749e-16 \n",
            "median 0.04477222863299982 \n",
            "skewness 0.798720544761661 \n",
            "stand. deviation 1.0000000000001912\n"
          ]
        },
        {
          "output_type": "execute_result",
          "data": {
            "text/plain": [
              "<matplotlib.axes._subplots.AxesSubplot at 0x7f42acb438d0>"
            ]
          },
          "metadata": {},
          "execution_count": 17
        },
        {
          "output_type": "display_data",
          "data": {
            "image/png": "[encoded data removed]",
            "text/plain": [
              "<Figure size 432x288 with 1 Axes>"
            ]
          },
          "metadata": {
            "needs_background": "light"
          }
        }
      ]
    },
    {
      "cell_type": "markdown",
      "metadata": {
        "id": "5bbtnPQxHJ3y"
      },
      "source": [
        ">>**Feature: Hours per week**\n",
        "\n"
      ]
    },
    {
      "cell_type": "code",
      "metadata": {
        "colab": {
          "base_uri": "https://localhost:8080/",
          "height": 146
        },
        "id": "wbf0_EfHFhRk",
        "outputId": "5e83ed31-b7fa-409d-d29b-4616a4cbf10c"
      },
      "source": [
        "describe(df['hours-per-week'])\n",
        "sns.histplot(data=df, x='hours-per-week', hue='income').set_yscale('log')\n",
        "plt.show()"
      ],
      "execution_count": null,
      "outputs": [
        {
          "output_type": "stream",
          "name": "stdout",
          "text": [
            "Characteristics:\n",
            "mean 40.437455852092995 \n",
            "median 40.0 \n",
            "skewness 0.227632049774777 \n",
            "stand. deviation 12.347239075706955\n"
          ]
        },
        {
          "output_type": "display_data",
          "data": {
            "image/png": "[encoded data removed]",
            "text/plain": [
              "<Figure size 432x288 with 1 Axes>"
            ]
          },
          "metadata": {
            "needs_background": "light"
          }
        }
      ]
    },
    {
      "cell_type": "code",
      "metadata": {
        "colab": {
          "base_uri": "https://localhost:8080/"
        },
        "id": "9vkCE94KJ5ME",
        "outputId": "ae1d512e-299b-4d24-fd88-d6e6a7ee44f8"
      },
      "source": [
        "from scipy.stats import kurtosis #since the data has (visually) a very sharp peak, we are interested in its kurtosis\n",
        "print('Kurtosis is: ', kurtosis(df['hours-per-week']), 'thus the data is mesokurtic.\\n Skewness<1. \\n This data is sufficiently similar to a gaussian distribution and thus does not need a transformation.')\n",
        "print('The range of values within the data is:', np.max(df['hours-per-week'])-np.min(df['hours-per-week']), 'needs scaling.')\n",
        "\n",
        "hpw_ss, hpw_rs, hpw_bpxcpx, hpw_yeojohn=transf(df['hours-per-week'])\n",
        "\n",
        "X['hours-per-week']=hpw_ss"
      ],
      "execution_count": null,
      "outputs": [
        {
          "output_type": "stream",
          "name": "stdout",
          "text": [
            "Kurtosis is:  2.9160546709844883 thus the data is mesokurtic.\n",
            " Skewness<1. \n",
            " This data is sufficiently similar to a gaussian distribution and thus does not need a transformation.\n",
            "The range of values within the data is: 98 needs scaling.\n",
            "Standard Scaler:\n",
            "Characteristics:\n",
            "mean -1.5493545726165386e-17 \n",
            "median -0.03542944697277691 \n",
            "skewness [0.22763205] \n",
            "stand. deviation 0.9999999999999999\n",
            "\n",
            "Robust Scaler:\n",
            "Characteristics:\n",
            "mean 0.08749117041859895 \n",
            "median 0.0 \n",
            "skewness [0.22763205] \n",
            "stand. deviation 2.4694478151415975\n",
            "\n",
            "Box-Cox Transformation:\n",
            "Characteristics:\n",
            "mean -4.720075972633201e-16 \n",
            "median -0.03568063895386623 \n",
            "skewness [0.23107916] \n",
            "stand. deviation 1.0\n",
            "\n",
            "Yeo-Johnson Transformation:\n",
            "Characteristics:\n",
            "mean -9.994428088146123e-17 \n",
            "median -0.035570102812165307 \n",
            "skewness [0.22956106] \n",
            "stand. deviation 1.0\n"
          ]
        }
      ]
    },
    {
      "cell_type": "markdown",
      "metadata": {
        "id": "nvnswmwexH3f"
      },
      "source": [
        "**CATEGORICAL FEATURES**\n",
        "\n",
        "Goals:\n",
        "*   One-Hot-Encoder for all categorical features selected\n",
        "*   Reduction of features by merging categories into logical subgroups\n",
        "\n",
        "\n"
      ]
    },
    {
      "cell_type": "code",
      "metadata": {
        "colab": {
          "base_uri": "https://localhost:8080/"
        },
        "id": "KR5x569I96rl",
        "outputId": "f6233b4a-14e3-470b-f229-edb4854024ac"
      },
      "source": [
        "#Deciding which data to use in the model\n",
        "for i in obj_c:\n",
        "  unique=len(df[i].unique())\n",
        "  print ('Feature {feature}'.format(feature=i), 'has %u unique categories' %(unique))"
      ],
      "execution_count": null,
      "outputs": [
        {
          "output_type": "stream",
          "name": "stdout",
          "text": [
            "Feature workclass has 9 unique categories\n",
            "Feature education has 16 unique categories\n",
            "Feature marital-status has 7 unique categories\n",
            "Feature occupation has 15 unique categories\n",
            "Feature relationship has 6 unique categories\n",
            "Feature race has 5 unique categories\n",
            "Feature sex has 2 unique categories\n",
            "Feature native-country has 42 unique categories\n",
            "Feature income has 2 unique categories\n"
          ]
        }
      ]
    },
    {
      "cell_type": "markdown",
      "metadata": {
        "id": "oz-_Iyt84fVF"
      },
      "source": [
        ">>**Feature: WORKCLASS**"
      ]
    },
    {
      "cell_type": "code",
      "metadata": {
        "colab": {
          "base_uri": "https://localhost:8080/",
          "height": 238
        },
        "id": "HJrpVia6Iw2h",
        "outputId": "0017a5ef-5a3c-4003-c14a-346d7f34a216"
      },
      "source": [
        "# Analysing feature workclass\n",
        "\n",
        "cp = sns.countplot(data=df, y='workclass', hue='income')\n",
        "#cp.set_xticklabels(cp.get_xticklabels(), rotation=30)  # make x axis labels readable, location of labels isn't perfect though #alternative: plot on y axis\n",
        "df.workclass.value_counts()"
      ],
      "execution_count": null,
      "outputs": [
        {
          "output_type": "execute_result",
          "data": {
            "text/plain": [
              " Private             22696\n",
              " Self-emp-not-inc     2541\n",
              " Local-gov            2093\n",
              " ?                    1836\n",
              " State-gov            1298\n",
              " Self-emp-inc         1116\n",
              " Federal-gov           960\n",
              " Without-pay            14\n",
              " Never-worked            7\n",
              "Name: workclass, dtype: int64"
            ]
          },
          "metadata": {},
          "execution_count": 21
        },
        {
          "output_type": "display_data",
          "data": {
            "image/png": "[encoded data removed]",
            "text/plain": [
              "<Figure size 432x288 with 1 Axes>"
            ]
          },
          "metadata": {
            "needs_background": "light"
          }
        }
      ]
    },
    {
      "cell_type": "code",
      "metadata": {
        "colab": {
          "base_uri": "https://localhost:8080/",
          "height": 109
        },
        "id": "U1zkG5Mpwkve",
        "outputId": "92ba3f15-d484-47f0-c3ea-49dcd4a7f9ee"
      },
      "source": [
        "#Separating feature 'workclass' into 4 categories:\n",
        "#\n",
        "#'Private','Gov', 'Self-employed and 'Other'\n",
        "#\n",
        "X['workclass']=['Private' if (i == ' Private')\n",
        "else 'Self-emp' if (i== ' Self-emp-inc' or i== ' Self-emp-not-inc') \n",
        "else 'Gov' if (i == ' Local-gov' or i== ' State-gov' or i== 'Federal-gov') \n",
        "else 'Other_work' for i in df['workclass']]\n",
        "\n",
        "#df1['work']=['State' if (i == ' Local-gov' or i== ' State-gov' or i== 'Federal-gov') else 'Other' for i in df['workclass']]\n",
        "#df['workclass'].replace(to_replace=' Self-emp-inc', value='0')\n",
        "\n",
        "dummy=pd.get_dummies(X.workclass)\n",
        "X=pd.concat([X, dummy], axis=1)\n",
        "print ('After feature selection:\\n---------------------\\n')\n",
        "cp = sns.countplot(data=X, x='workclass', hue=df.income)\n",
        "X.workclass.value_counts()\n",
        "del X['workclass']"
      ],
      "execution_count": null,
      "outputs": [
        {
          "output_type": "stream",
          "name": "stdout",
          "text": [
            "After feature selection:\n",
            "---------------------\n",
            "\n"
          ]
        },
        {
          "output_type": "display_data",
          "data": {
            "image/png": "[encoded data removed]",
            "text/plain": [
              "<Figure size 432x288 with 1 Axes>"
            ]
          },
          "metadata": {
            "needs_background": "light"
          }
        }
      ]
    },
    {
      "cell_type": "markdown",
      "metadata": {
        "id": "ApXaaiUMxw_I"
      },
      "source": [
        ">>**Feature: EDUCATION**"
      ]
    },
    {
      "cell_type": "code",
      "metadata": {
        "id": "FDWX-LgmXVX2"
      },
      "source": [
        "# Analysing feature education - commented out, since education-num can be used instead\n",
        "del X['education']"
      ],
      "execution_count": null,
      "outputs": []
    },
    {
      "cell_type": "markdown",
      "metadata": {
        "id": "dnrKJeyGcupD"
      },
      "source": [
        ">>**Feature: EDUCATION-NUM**\n"
      ]
    },
    {
      "cell_type": "code",
      "metadata": {
        "colab": {
          "base_uri": "https://localhost:8080/",
          "height": 54
        },
        "id": "3DaMuw5vcA-z",
        "outputId": "6b0d5e18-baeb-4c08-964a-3d0583110eca"
      },
      "source": [
        "# education-num is just the nominal variable education converted to numbers instead of text, thus it shall be treated as an ordinal categorical value\n",
        "edu_plot = sns.countplot(data=df, x='education-num', hue='income')#.set(title = 'Income distribution by degree')\n",
        "\n",
        "#edu_plot.set_yscale('log') COMMENT: attemting to normalize this data makes sense if we assume that the peak of the curve land on numbers 8 (meaning: finished 12th grade) or 9 (meaning: finished highscool) \n",
        "#                                    with equal deviations of both sides, which would imply an aprox 50% fail at finishing high school in the population, which seems unreasonable\n",
        "\n"
      ],
      "execution_count": null,
      "outputs": [
        {
          "output_type": "display_data",
          "data": {
            "image/png": "[encoded data removed]",
            "text/plain": [
              "<Figure size 432x288 with 1 Axes>"
            ]
          },
          "metadata": {
            "needs_background": "light"
          }
        }
      ]
    },
    {
      "cell_type": "markdown",
      "source": [
        ">>**Feature OCCUPATION**\n"
      ],
      "metadata": {
        "id": "9dFurBICmhYA"
      }
    },
    {
      "cell_type": "code",
      "metadata": {
        "colab": {
          "base_uri": "https://localhost:8080/",
          "height": 348
        },
        "id": "9x5NT5Pmh_-x",
        "outputId": "b80ac975-763f-40ee-9c4a-aa8f4052808d"
      },
      "source": [
        "#Plotting feature occupation\n",
        "op = sns.countplot(data=df, y='occupation', hue='income')\n",
        "df['occupation'].value_counts()"
      ],
      "execution_count": null,
      "outputs": [
        {
          "output_type": "execute_result",
          "data": {
            "text/plain": [
              " Prof-specialty       4140\n",
              " Craft-repair         4099\n",
              " Exec-managerial      4066\n",
              " Adm-clerical         3770\n",
              " Sales                3650\n",
              " Other-service        3295\n",
              " Machine-op-inspct    2002\n",
              " ?                    1843\n",
              " Transport-moving     1597\n",
              " Handlers-cleaners    1370\n",
              " Farming-fishing       994\n",
              " Tech-support          928\n",
              " Protective-serv       649\n",
              " Priv-house-serv       149\n",
              " Armed-Forces            9\n",
              "Name: occupation, dtype: int64"
            ]
          },
          "metadata": {},
          "execution_count": 25
        },
        {
          "output_type": "display_data",
          "data": {
            "image/png": "[encoded data removed]",
            "text/plain": [
              "<Figure size 432x288 with 1 Axes>"
            ]
          },
          "metadata": {
            "needs_background": "light"
          }
        }
      ]
    },
    {
      "cell_type": "markdown",
      "source": [
        "**Preprocessing feature 'occupation'**\n",
        "\n",
        "This feature has 15 unique categories. We will try a reduction in categories by separating occupations into fewer classes:\n",
        "\n",
        "* **class 'BlueCollar'**: occupations: Craft-repair, Farming-fishing, Handlers-cleaners, Machine-op-inspct.\n",
        "\n",
        "Blue Collar jobs *may involve manufacturing, warehousing, mining, excavation, electricity generation and power plant operations,electrical construction and maintenance, custodial work, farming, commercial fishing, logging, landscaping, pest control, food processing, oil field work, waste collection and disposal, recycling, construction, maintenance. This does exclude driving, trucking and many other types of physical work.* (Source:Wikipedia)\n",
        "\n",
        "* **class 'WhiteCollar'**: occupations: Exec-managerial, Adm-clerical, Prof-specialty\n",
        "\n",
        "White-collar workers *include job paths related to government, consulting, academia, accountancy, business and executive management, \n",
        "              customer support, design, engineering, market research, finance, human resources, operations research, marketing, information technology, \n",
        "              networking, law, healthcare, architecture, and research and development.* (Source:Wikipedia)\n",
        "\n",
        "* **class 'Services'**: occupations: Protective-Serv, Tech-Support,  Other-service, Priv-house-serv, Transport-moving\n",
        "\n",
        "\n",
        "* **class 'Other_occupation'**: occupations: '?', Armed-Forces, Sales"
      ],
      "metadata": {
        "id": "6b_x0XJgAbUu"
      }
    },
    {
      "cell_type": "code",
      "source": [
        "\n",
        "\n",
        "X['occupation']=['BlueCollar' if (i == ' Craft-repair' or i == ' Farming-fishing' or i == ' Handlers-cleaners' or i == ' Machine-op-inspct')\n",
        "else 'WhiteCollar' if (i==' Exec-managerial' or i==' Adm-clerical' or i==' Prof-specialty')\n",
        "else 'Other_occupation' if (i==' ?' or i ==' Armed-Forces' or i==' Sales')\n",
        "else 'Services' for i in df['occupation']]\n",
        "\n",
        "dummy=pd.get_dummies(X.occupation)\n",
        "X=pd.concat([X, dummy], axis=1)\n",
        "print ('After feature selection:\\n---------------------\\n')\n",
        "cp = sns.countplot(data=X, x='occupation', hue=df.income)\n",
        "X.occupation.value_counts()\n",
        "del X['occupation']"
      ],
      "metadata": {
        "colab": {
          "base_uri": "https://localhost:8080/",
          "height": 109
        },
        "id": "9vxScDKjt2jU",
        "outputId": "954b7498-ed88-4778-cd88-6e27e7345f60"
      },
      "execution_count": null,
      "outputs": [
        {
          "output_type": "stream",
          "name": "stdout",
          "text": [
            "After feature selection:\n",
            "---------------------\n",
            "\n"
          ]
        },
        {
          "output_type": "display_data",
          "data": {
            "image/png": "[encoded data removed]",
            "text/plain": [
              "<Figure size 432x288 with 1 Axes>"
            ]
          },
          "metadata": {
            "needs_background": "light"
          }
        }
      ]
    },
    {
      "cell_type": "markdown",
      "source": [
        ">>**Feature Native Country**"
      ],
      "metadata": {
        "id": "nbC-U3tUmk2j"
      }
    },
    {
      "cell_type": "code",
      "metadata": {
        "colab": {
          "base_uri": "https://localhost:8080/",
          "height": 165
        },
        "id": "Kz6MUKtWIe3t",
        "outputId": "6ce2c174-dd53-4eca-aaca-f77cf6d6d3b9"
      },
      "source": [
        "# Analysing feature 'native-country'\n",
        "#print (df['native-country'].value_counts()) \n",
        "#print (len(df[df['native-country']==' United-States'])/len(df)) #'United-States' accounts for 89.5% of the features, the rest 10.5% representing the other 41 features\n",
        "\n",
        "#Separating feature 'native country' into 'United-States' and 'Other'\n",
        "#\n",
        "X['native-country']=['United-States' if i == ' United-States' else 'Other_country' for i in df['native-country']]\n",
        "\n",
        "print ('\\n---------------------\\nAfter feature selection:')\n",
        "print (X['native-country'].value_counts())\n",
        "\n",
        "dummy=pd.get_dummies(X['native-country'])\n",
        "X=pd.concat([X, dummy], axis=1)\n",
        "\n",
        "cp = sns.countplot(data=X, x='native-country', hue=df.income)\n",
        "\n",
        "del X['native-country']"
      ],
      "execution_count": null,
      "outputs": [
        {
          "output_type": "stream",
          "name": "stdout",
          "text": [
            "\n",
            "---------------------\n",
            "After feature selection:\n",
            "United-States    29170\n",
            "Other_country     3391\n",
            "Name: native-country, dtype: int64\n"
          ]
        },
        {
          "output_type": "display_data",
          "data": {
            "image/png": "[encoded data removed]",
            "text/plain": [
              "<Figure size 432x288 with 1 Axes>"
            ]
          },
          "metadata": {
            "needs_background": "light"
          }
        }
      ]
    },
    {
      "cell_type": "markdown",
      "source": [
        ">>**Features: Marital status, Relationship, Race, Sex**\n",
        "\n",
        "**Protected attributes**"
      ],
      "metadata": {
        "id": "T1TO0ASgmrBL"
      }
    },
    {
      "cell_type": "code",
      "metadata": {
        "colab": {
          "base_uri": "https://localhost:8080/",
          "height": 344
        },
        "id": "xVS4g8l5Tkpa",
        "outputId": "823f94cd-334c-4322-9c78-ce53993ff961"
      },
      "source": [
        "protected=list() #list of protected attributes\n",
        "\n",
        "print ('After feature selection:\\n---------------------\\n')\n",
        "for i in ['sex','marital-status','race','relationship']:\n",
        "  sns.countplot(data=df, y=i, hue=df.income)\n",
        "  plt.show()\n",
        "\n",
        "# Analizing feature 'marital status' ----------   Regrouping the feature into:\n",
        "#with-partner ('WP'):  Married-civ-spouse,  Married-AF-spouse \n",
        "#no-partner ('NP): Never-married, Divorced, Separated, Widowed, Married-spouse-absent\n",
        "\n",
        "#print (df['marital-status'].value_counts())\n",
        "X['marital-status']=['WP' if (i == ' Married-civ-spouse' or i == ' Married-AF-spouse')\n",
        "else 'NP' for i in df['marital-status']]\n",
        "print (X['marital-status'].value_counts())\n",
        "sns.countplot(data=X, x='marital-status', hue=df.income)\n",
        "dummy=pd.get_dummies(X['marital-status'])\n",
        "X=pd.concat([X, dummy], axis=1)\n",
        "del X['marital-status']\n",
        "protected.append('NP')\n",
        "protected.append('WP')\n",
        "\n",
        "# Analizing feature 'relationship' ------------- \n",
        "# Inspecting the histogram, it would make sense to group 'Husband' and 'Wife' together into 'Spouse' and the rest into 'Family-not-spouse',\n",
        "#but it will definitely correlate with the feature 'marital-status'. Thus 'relationship' will be excluded from the features.\n",
        "del X['relationship']\n",
        "#print (df['relationship'].value_counts())\n",
        "#dummy = pd.get_dummies(X.relationship)\n",
        "#X = pd.concat([X, dummy], axis=1)\n",
        "\n",
        "# Analizing feature 'race' \n",
        "print (df['race'].value_counts())\n",
        "X['race']=['Other_race' if (i==' Other') else i for i in X.race]\n",
        "dummy=pd.get_dummies(X.race)\n",
        "X = pd.concat([X, dummy], axis=1)\n",
        "del X['race']\n",
        "protected.append('Other_race')\n",
        "protected.append('White')\n",
        "protected.append('Black')\n",
        "protected.append('Asian-Pac-Islander')\n",
        "protected.append('Amer-Indian-Eskimo')\n",
        "\n",
        "# Analizing feature 'sex'\n",
        "#print (df['sex'].value_counts())\n",
        "dummy=pd.get_dummies(X.sex)\n",
        "X = pd.concat([X, dummy], axis=1)\n",
        "del X['sex']\n",
        "protected.append('Female')\n",
        "protected.append('Male')"
      ],
      "execution_count": null,
      "outputs": [
        {
          "output_type": "stream",
          "name": "stdout",
          "text": [
            "After feature selection:\n",
            "---------------------\n",
            "\n"
          ]
        },
        {
          "output_type": "display_data",
          "data": {
            "image/png": "[encoded data removed]",
            "text/plain": [
              "<Figure size 432x288 with 1 Axes>"
            ]
          },
          "metadata": {
            "needs_background": "light"
          }
        },
        {
          "output_type": "display_data",
          "data": {
            "image/png": "[encoded data removed]",
            "text/plain": [
              "<Figure size 432x288 with 1 Axes>"
            ]
          },
          "metadata": {
            "needs_background": "light"
          }
        },
        {
          "output_type": "display_data",
          "data": {
            "image/png": "[encoded data removed]",
            "text/plain": [
              "<Figure size 432x288 with 1 Axes>"
            ]
          },
          "metadata": {
            "needs_background": "light"
          }
        },
        {
          "output_type": "display_data",
          "data": {
            "image/png": "[encoded data removed]",
            "text/plain": [
              "<Figure size 432x288 with 1 Axes>"
            ]
          },
          "metadata": {
            "needs_background": "light"
          }
        },
        {
          "output_type": "stream",
          "name": "stdout",
          "text": [
            "NP    17562\n",
            "WP    14999\n",
            "Name: marital-status, dtype: int64\n",
            " White                 27816\n",
            " Black                  3124\n",
            " Asian-Pac-Islander     1039\n",
            " Amer-Indian-Eskimo      311\n",
            " Other                   271\n",
            "Name: race, dtype: int64\n"
          ]
        },
        {
          "output_type": "display_data",
          "data": {
            "image/png": "[encoded data removed]",
            "text/plain": [
              "<Figure size 432x288 with 1 Axes>"
            ]
          },
          "metadata": {
            "needs_background": "light"
          }
        }
      ]
    },
    {
      "cell_type": "code",
      "metadata": {
        "colab": {
          "base_uri": "https://localhost:8080/"
        },
        "id": "sQa-AQcMQWt3",
        "outputId": "7275abd6-6730-4290-efbe-41dbdf096062"
      },
      "source": [
        "#Attributes describing X: list of numerical columns (list_num), list of binary columns (list_bin)\n",
        "list_num=['age','education-num','net-capital', 'hours-per-week']\n",
        "list_bin=[]\n",
        "#Columns of X (checking the results of dummy function)\n",
        "for i in X.columns:\n",
        "  if i[0]==' ': #removing the space at the beginning of some of the column names\n",
        "    X.rename(columns={i : i.replace(\" \", \"\")}, inplace=True)\n",
        "    print (i[1:])\n",
        "    if (i not in list_num): list_bin.append(i[1:])\n",
        "  else: \n",
        "    print (i)\n",
        "    if (i not in list_num): list_bin.append(i)\n",
        "\n",
        "print ('A total of ', X.shape[1], 'features')\n",
        "print (list_bin)"
      ],
      "execution_count": null,
      "outputs": [
        {
          "output_type": "stream",
          "name": "stdout",
          "text": [
            "age\n",
            "education-num\n",
            "hours-per-week\n",
            "net-capital\n",
            "Gov\n",
            "Other_work\n",
            "Private\n",
            "Self-emp\n",
            "BlueCollar\n",
            "Other_occupation\n",
            "Services\n",
            "WhiteCollar\n",
            "Other_country\n",
            "United-States\n",
            "NP\n",
            "WP\n",
            "Amer-Indian-Eskimo\n",
            "Asian-Pac-Islander\n",
            "Black\n",
            "White\n",
            "Other_race\n",
            "Female\n",
            "Male\n",
            "A total of  23 features\n",
            "['Gov', 'Other_work', 'Private', 'Self-emp', 'BlueCollar', 'Other_occupation', 'Services', 'WhiteCollar', 'Other_country', 'United-States', 'NP', 'WP', 'Amer-Indian-Eskimo', 'Asian-Pac-Islander', 'Black', 'White', 'Other_race', 'Female', 'Male']\n"
          ]
        }
      ]
    },
    {
      "cell_type": "code",
      "metadata": {
        "id": "2G4CQu-ogTxg",
        "colab": {
          "base_uri": "https://localhost:8080/",
          "height": 109
        },
        "outputId": "2a1448ec-2704-4dce-b70a-204e4faeb8f8"
      },
      "source": [
        "#Income \n",
        "\n",
        "# showing distribution of income\n",
        "# The label 'income' is very imbalanced, which could potentially affect the accuracy of the classifiers.\n",
        "\n",
        "sns.countplot(data=df, x='income')\n",
        "df['income'].value_counts()"
      ],
      "execution_count": null,
      "outputs": [
        {
          "output_type": "execute_result",
          "data": {
            "text/plain": [
              " <=50K    24720\n",
              " >50K      7841\n",
              "Name: income, dtype: int64"
            ]
          },
          "metadata": {},
          "execution_count": 30
        },
        {
          "output_type": "display_data",
          "data": {
            "image/png": "[encoded data removed]",
            "text/plain": [
              "<Figure size 432x288 with 1 Axes>"
            ]
          },
          "metadata": {
            "needs_background": "light"
          }
        }
      ]
    },
    {
      "cell_type": "markdown",
      "metadata": {
        "id": "T8iFjHfqgeO2"
      },
      "source": [
        "> ● Bivariate analysis \n",
        "\n",
        "In what follows, a correlation matrix for the numerical values will be plotted, as well as a heatmap showing the Jaccard coefficient between the binomial features."
      ]
    },
    {
      "cell_type": "code",
      "metadata": {
        "id": "VqzK4DUNiXzP",
        "colab": {
          "base_uri": "https://localhost:8080/",
          "height": 73
        },
        "outputId": "5eb12abb-d22a-4e65-91fc-33394f05f79a"
      },
      "source": [
        "# corelation matrix\n",
        "corr_matrix = X.loc[:,list_num].corr()\n",
        "corr_matrix\n",
        "\n",
        "# alternative to corr_matrix: just use df.corr() and it will pick numerical values automatically. annot= for numbers, cmap= for colors\n",
        "sns.heatmap(corr_matrix, annot=True, cmap=\"coolwarm\")"
      ],
      "execution_count": null,
      "outputs": [
        {
          "output_type": "execute_result",
          "data": {
            "text/plain": [
              "<matplotlib.axes._subplots.AxesSubplot at 0x7f42ac5e3790>"
            ]
          },
          "metadata": {},
          "execution_count": 31
        },
        {
          "output_type": "display_data",
          "data": {
            "image/png": "[encoded data removed]",
            "text/plain": [
              "<Figure size 432x288 with 2 Axes>"
            ]
          },
          "metadata": {
            "needs_background": "light"
          }
        }
      ]
    },
    {
      "cell_type": "code",
      "source": [
        "#Printing a heatmap showing the jaccard coefficients between the columns of binary features in X:\n",
        "\n",
        "#1. defining jaccard coefficient\n",
        "def jaccard_coef (v1, v2):\n",
        "    rs=0 # = r + s\n",
        "    q=0\n",
        "    for x,y in zip(v1,v2):\n",
        "        if (x!=y): rs=rs+1\n",
        "        if (x)&(y): q=q+1\n",
        "    #smc=round(rs/(q+rs),2) #similarity coefficient rounded to 2 decimals\n",
        "    jc=round(q/(q+rs),2) #jaccard coeficient rounded to 2 decimals\n",
        "    return jc \n",
        "\n",
        "#2. Building lists of columns to analyse:\n",
        "#print (list_bin) #OUT: ['Gov', 'Other_work', 'Private', 'Self-emp', 'BlueCollar', 'Other_occupation', 'Services', \n",
        "#                       'WhiteCollar', 'Other_country', 'United-States', 'NP', 'WP', 'Amer-Indian-Eskimo', 'Asian-Pac-Islander', \n",
        "#                        'Black', 'White', 'Other_race', 'Female', 'Male']\n",
        "\n",
        "occupation=list_bin[0:4] #Values: ['Gov', 'Other_work', 'Private', 'Self-emp']\n",
        "workclass=list_bin[4:8]  #Values: ['BlueCollar', 'Other_occupation', 'Services', 'WhiteCollar']\n",
        "country=list_bin[8:10]   #Values: ['Other_country', 'United-States']\n",
        "marital=list_bin[10:12]  #Values: ['Amer-Indian-Eskimo', 'Asian-Pac-Islander', 'Black', 'White', 'Other_race']\n",
        "race=list_bin[12:17]     #Values: ['Female', 'Male']\n",
        "sex=list_bin[17:19]      #Values: ['NP', 'WP']\n",
        "list2=[occupation, workclass, country, race, sex, marital]\n",
        "#List2 is a list of lists; \n",
        "#Reason: it makes no sense to check for correlation amongst different binary columns pertaining to the same feature, such as Other_Country vs United-States\n",
        "#Example: list2[0] = occupation = ['Gov', 'Other_work', 'Private', 'Self-emp']\n",
        "names=['occupation', 'workclass', 'native-country', 'race', 'sex', 'marital']\n",
        "\n",
        "\n",
        "#3. Building up an array of results:\n",
        "data=np.zeros([19,19])\n",
        "results=pd.DataFrame(data=data, columns=list_bin)\n",
        "results.index=list_bin\n",
        "#results.head(10)\n",
        "\n",
        "\n",
        "corr=[]\n",
        "for i in range(len(list2)):     #example: in the first iteration i = occupation\n",
        "  for j in range(len(list2)-i-1): #example: in the first iteraion of i, j takes the values: workclass, country, marital, race and sex\n",
        "    correlation=False #We assume that the features are independent\n",
        "    print ('\\nComputing correlations between ',names[i],' and ', names[j+1+i])\n",
        "    for v1 in list2[i]:  #example: in the first iteration of i, v1 takes the values 'Gov', 'Other_work', 'Private', 'Self-emp'\n",
        "        for v2 in list2[j+i+1]:\n",
        "          results[v1].loc[v2]= jaccard_coef(X[v1],X[v2])\n",
        "          results[v2].loc[v1]= jaccard_coef(X[v1],X[v2]) #Due to simmetry\n",
        "\n",
        "#Adding jaccard coef = 1 on the diagonal:\n",
        "for i in list_bin:  #example: in the first iteration of i, v1 takes the values 'Gov', 'Other_work', 'Private', 'Self-emp'\n",
        "      results[i].loc[i]=1 \n",
        "\n",
        "sns.heatmap(results, cmap=\"coolwarm\")"
      ],
      "metadata": {
        "id": "k7MlfUZP8MK6",
        "colab": {
          "base_uri": "https://localhost:8080/",
          "height": 624
        },
        "outputId": "d78b2832-9d13-4be0-d94a-fccaa750ad9d"
      },
      "execution_count": null,
      "outputs": [
        {
          "output_type": "stream",
          "name": "stdout",
          "text": [
            "\n",
            "Computing correlations between  occupation  and  workclass\n",
            "\n",
            "Computing correlations between  occupation  and  native-country\n",
            "\n",
            "Computing correlations between  occupation  and  race\n",
            "\n",
            "Computing correlations between  occupation  and  sex\n",
            "\n",
            "Computing correlations between  occupation  and  marital\n",
            "\n",
            "Computing correlations between  workclass  and  native-country\n",
            "\n",
            "Computing correlations between  workclass  and  race\n",
            "\n",
            "Computing correlations between  workclass  and  sex\n",
            "\n",
            "Computing correlations between  workclass  and  marital\n",
            "\n",
            "Computing correlations between  native-country  and  race\n",
            "\n",
            "Computing correlations between  native-country  and  sex\n",
            "\n",
            "Computing correlations between  native-country  and  marital\n",
            "\n",
            "Computing correlations between  race  and  sex\n",
            "\n",
            "Computing correlations between  race  and  marital\n",
            "\n",
            "Computing correlations between  sex  and  marital\n"
          ]
        },
        {
          "output_type": "execute_result",
          "data": {
            "text/plain": [
              "<matplotlib.axes._subplots.AxesSubplot at 0x7f42b5bc04d0>"
            ]
          },
          "metadata": {},
          "execution_count": 32
        },
        {
          "output_type": "display_data",
          "data": {
            "image/png": "[encoded data removed]",
            "text/plain": [
              "<Figure size 432x288 with 2 Axes>"
            ]
          },
          "metadata": {
            "needs_background": "light"
          }
        }
      ]
    },
    {
      "cell_type": "code",
      "source": [
        "for i in range(len(list2)):\n",
        "  print (list2[i])"
      ],
      "metadata": {
        "colab": {
          "base_uri": "https://localhost:8080/"
        },
        "id": "mh7aEC7yIEoU",
        "outputId": "71ad0a64-649e-417e-e26e-f61adc340265"
      },
      "execution_count": null,
      "outputs": [
        {
          "output_type": "stream",
          "name": "stdout",
          "text": [
            "['Gov', 'Other_work', 'Private', 'Self-emp']\n",
            "['BlueCollar', 'Other_occupation', 'Services', 'WhiteCollar']\n",
            "['Other_country', 'United-States']\n",
            "['Amer-Indian-Eskimo', 'Asian-Pac-Islander', 'Black', 'White', 'Other_race']\n",
            "['Female', 'Male']\n",
            "['NP', 'WP']\n"
          ]
        }
      ]
    },
    {
      "cell_type": "markdown",
      "source": [
        "#**K-Means**"
      ],
      "metadata": {
        "id": "E5gTGeS05dZD"
      }
    },
    {
      "cell_type": "markdown",
      "source": [
        "##*Parameter Tuning*"
      ],
      "metadata": {
        "id": "EExXQfgRxPKV"
      }
    },
    {
      "cell_type": "code",
      "source": [
        "from sklearn.cluster import KMeans\n",
        "from sklearn.metrics import silhouette_score"
      ],
      "metadata": {
        "id": "KNGLIfku5sO9"
      },
      "execution_count": null,
      "outputs": []
    },
    {
      "cell_type": "code",
      "source": [
        "# function for figuring out a useful number of clusters\n",
        "\n",
        "def elbowcurve(x, y, z):\n",
        "  Nc = range(x, y, z)\n",
        "  kmeans = [KMeans(n_clusters=i) for i in Nc]\n",
        "  kmeans\n",
        "  score = [kmeans[i].fit(X).score(X) for i in range(len(kmeans))]\n",
        "  score\n",
        "  plt.plot(Nc,score)\n",
        "  plt.xlabel('Number of Clusters')\n",
        "  plt.ylabel('Score')\n",
        "  plt.title('Elbow Curve')\n",
        "  plt.show()"
      ],
      "metadata": {
        "id": "NuNA1__h68vH"
      },
      "execution_count": null,
      "outputs": []
    },
    {
      "cell_type": "code",
      "source": [
        "elbowcurve(2,30,1)"
      ],
      "metadata": {
        "colab": {
          "base_uri": "https://localhost:8080/",
          "height": 54
        },
        "id": "QzhhICnv-ZtB",
        "outputId": "982e4435-7dae-4d88-f926-f4a45ce7b0ae"
      },
      "execution_count": null,
      "outputs": [
        {
          "output_type": "display_data",
          "data": {
            "image/png": "[encoded data removed]",
            "text/plain": [
              "<Figure size 432x288 with 1 Axes>"
            ]
          },
          "metadata": {
            "needs_background": "light"
          }
        }
      ]
    },
    {
      "cell_type": "code",
      "source": [
        "elbowcurve(2,10,1)\n",
        "# 3 is cut-off of the elbow curve"
      ],
      "metadata": {
        "colab": {
          "base_uri": "https://localhost:8080/",
          "height": 54
        },
        "id": "pdzzpl4hne6W",
        "outputId": "2743e149-472d-4490-f160-32facf8d188c"
      },
      "execution_count": null,
      "outputs": [
        {
          "output_type": "display_data",
          "data": {
            "image/png": "[encoded data removed]",
            "text/plain": [
              "<Figure size 432x288 with 1 Axes>"
            ]
          },
          "metadata": {
            "needs_background": "light"
          }
        }
      ]
    },
    {
      "cell_type": "code",
      "source": [
        "# elbowcurve(5,100,10)"
      ],
      "metadata": {
        "id": "Nvn3n72q-get"
      },
      "execution_count": null,
      "outputs": []
    },
    {
      "cell_type": "code",
      "source": [
        "# testing out different initations\n",
        "inits = ['k-means++', 'random']\n",
        "\n",
        "kmeans = [KMeans(n_clusters=2, init=i) for i in inits]\n",
        "score = [kmeans[i].fit(X).score(X) for i in range(len(kmeans))]\n",
        "\n",
        "for val, s in zip(inits, score):\n",
        "  print(f'The score for initiation with {val} is {round(s, 4)}.')"
      ],
      "metadata": {
        "colab": {
          "base_uri": "https://localhost:8080/"
        },
        "id": "3nYq6n-UX7-9",
        "outputId": "2664241f-1bbb-4ee1-f7e2-14c7aa6ae284"
      },
      "execution_count": null,
      "outputs": [
        {
          "output_type": "stream",
          "name": "stdout",
          "text": [
            "The score for initiation with k-means++ is -260054.5558.\n",
            "The score for initiation with random is -260054.5558.\n"
          ]
        }
      ]
    },
    {
      "cell_type": "code",
      "source": [
        "# testing out different tolerances\n",
        "tols = [1, 0.1, 0.01, 0.001, 0.0001, 0.00001, 0.000001]\n",
        "\n",
        "kmeans = [KMeans(n_clusters=2, tol=i) for i in tols]\n",
        "score = [kmeans[i].fit(X).score(X) for i in range(len(kmeans))]\n",
        "\n",
        "for val, s in zip(tols, score):\n",
        "  print(f'The score for tolerance value of {val} is {round(s, 4)}.')"
      ],
      "metadata": {
        "colab": {
          "base_uri": "https://localhost:8080/"
        },
        "id": "7aiSxnBanimj",
        "outputId": "93103d37-8a02-4acc-a2f6-9576deb2f41e"
      },
      "execution_count": null,
      "outputs": [
        {
          "output_type": "stream",
          "name": "stdout",
          "text": [
            "The score for tolerance value of 1 is -260074.2297.\n",
            "The score for tolerance value of 0.1 is -260058.1373.\n",
            "The score for tolerance value of 0.01 is -260062.2438.\n",
            "The score for tolerance value of 0.001 is -260054.8924.\n",
            "The score for tolerance value of 0.0001 is -260054.5558.\n",
            "The score for tolerance value of 1e-05 is -260054.4918.\n",
            "The score for tolerance value of 1e-06 is -260054.4309.\n"
          ]
        }
      ]
    },
    {
      "cell_type": "code",
      "source": [
        "# testing different algorithms\n",
        "algs = ['full', 'elkan']\n",
        "\n",
        "kmeans = [KMeans(n_clusters=2, algorithm=i) for i in algs]\n",
        "score = [kmeans[i].fit(X).score(X) for i in range(len(kmeans))]\n",
        "\n",
        "for val, s in zip(algs, score):\n",
        "  print(f'The score for the algorithm \"{val}\" is {round(s, 4)}.')"
      ],
      "metadata": {
        "colab": {
          "base_uri": "https://localhost:8080/"
        },
        "id": "SNlZ3BR-sUQ2",
        "outputId": "6a7474ad-d691-49d8-b92f-fff4282d7294"
      },
      "execution_count": null,
      "outputs": [
        {
          "output_type": "stream",
          "name": "stdout",
          "text": [
            "The score for the algorithm \"full\" is -260054.5558.\n",
            "The score for the algorithm \"elkan\" is -260054.5558.\n"
          ]
        }
      ]
    },
    {
      "cell_type": "code",
      "source": [
        "# testing different max_iter\n",
        "iters = [1, 2, 5, 10, 50, 100, 200, 300, 400, 500]\n",
        "\n",
        "kmeans = [KMeans(n_clusters=2, max_iter=i) for i in iters]\n",
        "score = [kmeans[i].fit(X).score(X) for i in range(len(kmeans))]\n",
        "\n",
        "for val, s in zip(iters, score):\n",
        "  print(f'The score for {val} max iterations is {round(s, 4)}.')"
      ],
      "metadata": {
        "colab": {
          "base_uri": "https://localhost:8080/"
        },
        "id": "0CBDCnrsu0O9",
        "outputId": "58cb4892-a160-40bc-82f8-66329b2c5053"
      },
      "execution_count": null,
      "outputs": [
        {
          "output_type": "stream",
          "name": "stdout",
          "text": [
            "The score for 1 max iterations is -260086.8982.\n",
            "The score for 2 max iterations is -260079.111.\n",
            "The score for 5 max iterations is -260054.7815.\n",
            "The score for 10 max iterations is -260054.5251.\n",
            "The score for 50 max iterations is -260054.5558.\n",
            "The score for 100 max iterations is -260054.4996.\n",
            "The score for 200 max iterations is -260054.5558.\n",
            "The score for 300 max iterations is -260054.5558.\n",
            "The score for 400 max iterations is -260054.5558.\n",
            "The score for 500 max iterations is -260054.5336.\n"
          ]
        }
      ]
    },
    {
      "cell_type": "code",
      "source": [
        "# testing different initiation amounts\n",
        "n_inits = [1,2, 5, 10, 15, 20]\n",
        "\n",
        "kmeans = [KMeans(n_clusters=2, n_init=i) for i in n_inits]\n",
        "score = [kmeans[i].fit(X).score(X) for i in range(len(kmeans))]\n",
        "\n",
        "for val, s in zip(n_inits, score):\n",
        "  print(f'The score for {val} initiations is {round(s, 4)}.')"
      ],
      "metadata": {
        "colab": {
          "base_uri": "https://localhost:8080/"
        },
        "id": "Zc2oz1OYwS65",
        "outputId": "c52647a6-4607-4b21-afab-10fc285c0cfb"
      },
      "execution_count": null,
      "outputs": [
        {
          "output_type": "stream",
          "name": "stdout",
          "text": [
            "The score for 1 initiations is -260054.5558.\n",
            "The score for 2 initiations is -260054.5626.\n",
            "The score for 5 initiations is -260054.5714.\n",
            "The score for 10 initiations is -260054.4478.\n",
            "The score for 15 initiations is -260054.5558.\n",
            "The score for 20 initiations is -260054.5558.\n"
          ]
        }
      ]
    },
    {
      "cell_type": "markdown",
      "source": [
        "**Conclusion of Parameter Tuning**:\n",
        "\n",
        "\n",
        "The only way to considerably increase the performance is to increase the amount of clusters. This however could lead to overfitting of clustering algorithm to the data set and makes evaluation in a human comprehensible way difficult. All other parameters tweaks result in only minimally increased performances in comparison to the base parameters and will therefore not be included in the final model.\n"
      ],
      "metadata": {
        "id": "eb5aIHO_Yh-H"
      }
    },
    {
      "cell_type": "markdown",
      "source": [
        "##*Final Model*"
      ],
      "metadata": {
        "id": "I0iBuFhOZvUQ"
      }
    },
    {
      "cell_type": "markdown",
      "source": [
        "The used parameters are the following:\n",
        "- n_clusters = 2\n",
        "- init = 'k-means++'\n",
        "- n_init = 10\n",
        "- max_iter = 300\n",
        "- tol = 1e-4\n",
        "- random_state = 1"
      ],
      "metadata": {
        "id": "5UJ4x5PBXvWE"
      }
    },
    {
      "cell_type": "code",
      "source": [
        "kM_final = KMeans(n_clusters=2, random_state=1)\n",
        "kM_final.fit(X)\n",
        "\n",
        "y_pred = kM_final.labels_.tolist()"
      ],
      "metadata": {
        "id": "XKrQ5sFuZzzf"
      },
      "execution_count": null,
      "outputs": []
    },
    {
      "cell_type": "markdown",
      "source": [
        "##*Evaluation measures*"
      ],
      "metadata": {
        "id": "kFBuBWLE9LT0"
      }
    },
    {
      "cell_type": "markdown",
      "source": [
        "###**External**"
      ],
      "metadata": {
        "id": "aZDko6JkyWMb"
      }
    },
    {
      "cell_type": "code",
      "source": [
        "# https://datascienceparichay.com/article/get-accuracy-of-predictions-in-python-with-sklearn/\n",
        "\n",
        "def compute_accuracy(y_true, y_pred):\n",
        "    correct = 0\n",
        "    # iterate over each label and check\n",
        "    for true, pred in zip(y_true, y_pred):\n",
        "        if true == pred:\n",
        "            correct += 1\n",
        "    # compute the accuracy\n",
        "    accuracy = correct/len(y_true)\n",
        "    return accuracy"
      ],
      "metadata": {
        "id": "9-Ty7qrcekgV"
      },
      "execution_count": null,
      "outputs": []
    },
    {
      "cell_type": "code",
      "source": [
        "# very low accuracy in most cases. Random state couldn't fix this\n",
        "print(compute_accuracy(y, y_pred))"
      ],
      "metadata": {
        "colab": {
          "base_uri": "https://localhost:8080/"
        },
        "id": "SfC4oD01ezjT",
        "outputId": "1814b621-5df3-440c-f05d-113fd69eb5c5"
      },
      "execution_count": null,
      "outputs": [
        {
          "output_type": "stream",
          "name": "stdout",
          "text": [
            "0.7224900955130371\n"
          ]
        }
      ]
    },
    {
      "cell_type": "code",
      "source": [
        "# checking the predictions against the actual labels\n",
        "print('Actual labels:')\n",
        "print(0, y.count(0))\n",
        "print(1, y.count(1))\n",
        "\n",
        "print('Predicted clusters:')\n",
        "print(0, y_pred.count(0))\n",
        "print(1, y_pred.count(1))\n",
        "\n",
        "# in most cases, the clusters are flipped"
      ],
      "metadata": {
        "colab": {
          "base_uri": "https://localhost:8080/"
        },
        "id": "il2CTtTsc8iq",
        "outputId": "4f3cbb85-7c1b-427e-c571-f61f7f7ae2ef"
      },
      "execution_count": null,
      "outputs": [
        {
          "output_type": "stream",
          "name": "stdout",
          "text": [
            "Actual labels:\n",
            "0 24720\n",
            "1 7841\n",
            "Predicted clusters:\n",
            "0 22328\n",
            "1 10233\n"
          ]
        }
      ]
    },
    {
      "cell_type": "code",
      "source": [
        "# flip cluster labels and check accuracy again\n",
        "y_pred = [1 if entry == 0 else 0 for entry in y_pred]\n",
        "print(compute_accuracy(y, y_pred))"
      ],
      "metadata": {
        "colab": {
          "base_uri": "https://localhost:8080/"
        },
        "id": "Q4Wc4DYNfJuu",
        "outputId": "881493e3-9374-4566-f760-431cb372a8ba"
      },
      "execution_count": null,
      "outputs": [
        {
          "output_type": "stream",
          "name": "stdout",
          "text": [
            "0.27750990448696294\n"
          ]
        }
      ]
    },
    {
      "cell_type": "code",
      "source": [
        "# checking different values depending on TP/FP/TN/FN\n",
        "from sklearn.metrics import precision_recall_fscore_support\n",
        "\n",
        "scores = precision_recall_fscore_support(y, y_pred, average='macro')\n",
        "metrics = ['Precision', 'Recall', 'F-Score']\n",
        "\n",
        "for string, value in zip(metrics, scores):\n",
        "  print(f'{string}: {value}')\n",
        "\n",
        "# if the results are below 0.5, the cluster labels have to be flipped again in the previous cell. this also affects the outcome of the protected attributes"
      ],
      "metadata": {
        "colab": {
          "base_uri": "https://localhost:8080/"
        },
        "id": "1aT9hEs7i61W",
        "outputId": "a34f6a66-5bad-4cc1-fb54-b87052e45d33"
      },
      "execution_count": null,
      "outputs": [
        {
          "output_type": "stream",
          "name": "stdout",
          "text": [
            "Precision: 0.3535856613636067\n",
            "Recall: 0.32740965875579736\n",
            "F-Score: 0.27358969860074256\n"
          ]
        }
      ]
    },
    {
      "cell_type": "markdown",
      "source": [
        "###**Internal**"
      ],
      "metadata": {
        "id": "iPgna5e1yY67"
      }
    },
    {
      "cell_type": "markdown",
      "source": [
        "Silhouette coefficient\n",
        "(How tightly are clusters grouped)\n",
        "--> 0.7 is strong strcuture, >0.5 is usable"
      ],
      "metadata": {
        "id": "0FddYTSS9S9B"
      }
    },
    {
      "cell_type": "code",
      "source": [
        "from sklearn.metrics import silhouette_score, silhouette_samples\n",
        "\n",
        "silhouette_score(X, y_pred)"
      ],
      "metadata": {
        "colab": {
          "base_uri": "https://localhost:8080/"
        },
        "id": "WZ30fDpCmDaB",
        "outputId": "1c67d928-a971-43f0-ef2d-398003bbf62c"
      },
      "execution_count": null,
      "outputs": [
        {
          "output_type": "execute_result",
          "data": {
            "text/plain": [
              "0.32565033835990154"
            ]
          },
          "metadata": {},
          "execution_count": 50
        }
      ]
    },
    {
      "cell_type": "code",
      "source": [
        "# adjusted from https://scikit-learn.org/stable/auto_examples/cluster/plot_kmeans_silhouette_analysis.html\n",
        "import matplotlib.cm as cm\n",
        "\n",
        "for n_clusters in range(2,5):\n",
        "    # Create a subplot with 1 row and 1 columns\n",
        "    fig, (ax1) = plt.subplots(1, 1)\n",
        "    fig.set_size_inches(18, 7)\n",
        "\n",
        "    # The 1st subplot is the silhouette plot\n",
        "    ax1.set_xlim([-0.1, 1])\n",
        "    # The (n_clusters+1)*10 is for inserting blank space between silhouette plots of individual clusters, to demarcate them clearly.\n",
        "    ax1.set_ylim([0, len(X) + (n_clusters + 1) * 10])\n",
        "\n",
        "    # Initialize the clusterer with n_clusters value and a random generator seed of 1 for reproducibility.\n",
        "    clusterer = KMeans(n_clusters=n_clusters, random_state=1)\n",
        "    cluster_labels = clusterer.fit_predict(X)\n",
        "\n",
        "    # Compute the silhouette scores for each sample\n",
        "    sample_silhouette_values = silhouette_samples(X, cluster_labels)\n",
        "\n",
        "    y_lower = 10\n",
        "    for i in range(n_clusters):\n",
        "        # Aggregate the silhouette scores for samples belonging to\n",
        "        # cluster i, and sort them\n",
        "        ith_cluster_silhouette_values = sample_silhouette_values[cluster_labels == i]\n",
        "\n",
        "        ith_cluster_silhouette_values.sort()\n",
        "\n",
        "        size_cluster_i = ith_cluster_silhouette_values.shape[0]\n",
        "        y_upper = y_lower + size_cluster_i\n",
        "\n",
        "        color = cm.nipy_spectral(float(i) / n_clusters)\n",
        "        ax1.fill_betweenx(\n",
        "            np.arange(y_lower, y_upper),\n",
        "            0,\n",
        "            ith_cluster_silhouette_values,\n",
        "            facecolor=color,\n",
        "            edgecolor=color,\n",
        "            alpha=0.7,\n",
        "        )\n",
        "\n",
        "        # Label the silhouette plots with their cluster numbers at the middle\n",
        "        ax1.text(-0.05, y_lower + 0.5 * size_cluster_i, str(i))\n",
        "\n",
        "        # Compute the new y_lower for next plot\n",
        "        y_lower = y_upper + 10  # 10 for the 0 samples\n",
        "\n",
        "    ax1.set_title(\"The silhouette plot for the various clusters.\")\n",
        "    ax1.set_xlabel(\"The silhouette coefficient values\")\n",
        "    ax1.set_ylabel(\"Cluster label\")\n",
        "\n",
        "    # The vertical line for average silhouette score of all the values\n",
        "    silhouette_avg = silhouette_score(X, cluster_labels)\n",
        "    ax1.axvline(x=silhouette_avg, color=\"red\", linestyle=\"--\")\n",
        "\n",
        "    ax1.set_yticks([])  # Clear the yaxis labels / ticks\n",
        "    ax1.set_xticks([-0.1, 0, 0.2, 0.4, 0.6, 0.8, 1])\n",
        "\n",
        "plt.show()"
      ],
      "metadata": {
        "id": "lOjhz_dGqW1g",
        "colab": {
          "base_uri": "https://localhost:8080/",
          "height": 89
        },
        "outputId": "840027ef-e799-450e-f4f5-585d1668b74a"
      },
      "execution_count": null,
      "outputs": [
        {
          "output_type": "display_data",
          "data": {
            "image/png": "[encoded data removed]",
            "text/plain": [
              "<Figure size 1296x504 with 1 Axes>"
            ]
          },
          "metadata": {
            "needs_background": "light"
          }
        },
        {
          "output_type": "display_data",
          "data": {
            "image/png": "[encoded data removed]",
            "text/plain": [
              "<Figure size 1296x504 with 1 Axes>"
            ]
          },
          "metadata": {
            "needs_background": "light"
          }
        },
        {
          "output_type": "display_data",
          "data": {
            "image/png": "[encoded data removed]",
            "text/plain": [
              "<Figure size 1296x504 with 1 Axes>"
            ]
          },
          "metadata": {
            "needs_background": "light"
          }
        }
      ]
    },
    {
      "cell_type": "markdown",
      "source": [
        "##*Human comprehensive labelling of clusters*"
      ],
      "metadata": {
        "id": "f6OZPJXff28e"
      }
    },
    {
      "cell_type": "markdown",
      "source": [
        "The choice of the value two for the kMeans algorithm is supported by two reasons:\n",
        "\n",
        "1. The Silhouette plot for kMeans with n_clusters=2 has the highest similarity between cluster shapes and the average Silhouette coefficient decreases with increasing amounts of clusters.\n",
        "2. Comparison between the labelled data set and the clustering results is easier achieved if there are only two clusters.\n",
        "\n",
        "The two clusters being fairly similar to the labels of the original data set (72% overlap) suggest that this algorithm also groups the instances of the data set by income ('high-income'/'low-income') or a related metric. It is not apparent whether the cut-off is exactly an income of 50k per year but it could be a similar amount. It would probably be smaller due to the fact that the 'high-income' cluster contains more instances than the label >50k."
      ],
      "metadata": {
        "id": "EYAUramFf7ar"
      }
    },
    {
      "cell_type": "markdown",
      "source": [
        "##*Protected Atributes*"
      ],
      "metadata": {
        "id": "qL2ypx1TQV0W"
      }
    },
    {
      "cell_type": "code",
      "source": [
        "# creating data set containing only female/male instances and the income feature\n",
        "def dist_population(X, y):\n",
        "  data = pd.DataFrame(columns=['F','income'])\n",
        "  data['F'] = X['Female']\n",
        "  data['M'] = X['Male']\n",
        "  data['income'] = y\n",
        "\n",
        "  female_population = data[data['F']==1]\n",
        "  male_population = data[data['M']==1]\n",
        "\n",
        "  return female_population, male_population"
      ],
      "metadata": {
        "id": "jighD5loQVMA"
      },
      "execution_count": null,
      "outputs": []
    },
    {
      "cell_type": "code",
      "source": [
        "# returns chances of an female/male instance belonging to income class/cluster 1\n",
        "def dist_prob_inc(X, y):\n",
        "  F, M=dist_population(X,y)\n",
        "  return len(F[F.income==1])/len(F), len(M[M.income==1])/len(M) \n",
        "  # returning the probability of outcome 1 if given female, and prob of outcome 1 if given male"
      ],
      "metadata": {
        "id": "dz3XWQsRQ60F"
      },
      "execution_count": null,
      "outputs": []
    },
    {
      "cell_type": "code",
      "source": [
        "# getting imbalance for the actual labels\n",
        "print ('The probability of income > 50K in the data:')\n",
        "a, b = dist_prob_inc (X, y)\n",
        "print ('  if sex=Female : p_f = {:.3%} ; if sex=Male : p_m= {:.3%}'.format(a, b))\n",
        "print(f'Statistical parity (bias of the data set) = p_f / p_m = {round(a/b,2)}' )"
      ],
      "metadata": {
        "colab": {
          "base_uri": "https://localhost:8080/"
        },
        "id": "HIK-c1bTRYYX",
        "outputId": "16254f45-5ccc-4e6c-e0b1-9f0c224e4e54"
      },
      "execution_count": null,
      "outputs": [
        {
          "output_type": "stream",
          "name": "stdout",
          "text": [
            "The probability of income > 50K in the data:\n",
            "  if sex=Female : p_f = 10.946% ; if sex=Male : p_m= 30.574%\n",
            "Statistical parity (bias of the data set) = p_f / p_m = 0.36\n"
          ]
        }
      ]
    },
    {
      "cell_type": "code",
      "source": [
        "# getting imbalance for the predicted clusters\n",
        "print ('The probability of belonging to cluster 1 in the processed data:')\n",
        "a, b = dist_prob_inc (X, y_pred)\n",
        "print ('  if sex=Female : p_f = {:.3%} ; if sex=Male : p_m= {:.3%}'.format(a, b))\n",
        "print(f'Statistical parity (bias of the clustering) = p_f / p_m = {round(a/b,2)}' )"
      ],
      "metadata": {
        "colab": {
          "base_uri": "https://localhost:8080/"
        },
        "id": "R1JN5zh5Ykz9",
        "outputId": "2e824834-7227-4a70-95b0-11ed8660df0f"
      },
      "execution_count": null,
      "outputs": [
        {
          "output_type": "stream",
          "name": "stdout",
          "text": [
            "The probability of belonging to cluster 1 in the processed data:\n",
            "  if sex=Female : p_f = 71.145% ; if sex=Male : p_m= 67.302%\n",
            "Statistical parity (bias of the clustering) = p_f / p_m = 1.06\n"
          ]
        }
      ]
    },
    {
      "cell_type": "code",
      "source": [
        "# Testing impact of parameter tolerance\n",
        "\n",
        "tolerances = [1, 0.1, 0.01, 0.001, 0.0001, 0.00001, 0.000001]\n",
        "\n",
        "\n",
        "clustering = [KMeans(n_clusters=2, tol=tol, random_state=1) for tol in tolerances]\n",
        "clustering = [cls.fit(X) for cls in clustering]\n",
        "y_all = [cls.labels_.tolist() for cls in clustering]\n",
        "\n",
        "for ys in y_all:\n",
        "  a, b = dist_prob_inc (X, ys)\n",
        "  # ensure that the smaller cluster is used as cluster 1\n",
        "  if a > 0.50:\n",
        "    a = 1 - a\n",
        "    b = 1 - b\n",
        "  print ('  if sex=Female : p_f = {:.3%} ; if sex=Male : p_m= {:.3%}'.format(a, b))\n",
        "  print(f'Statistical parity (bias of the data set) = p_f / p_m = {round(a/b,2)}' )"
      ],
      "metadata": {
        "colab": {
          "base_uri": "https://localhost:8080/"
        },
        "id": "HLS14KzDBQhQ",
        "outputId": "eff6c639-3b67-45b9-db25-1161225bbadf"
      },
      "execution_count": null,
      "outputs": [
        {
          "output_type": "stream",
          "name": "stdout",
          "text": [
            "  if sex=Female : p_f = 28.744% ; if sex=Male : p_m= 32.524%\n",
            "Statistical parity (bias of the data set) = p_f / p_m = 0.88\n",
            "  if sex=Female : p_f = 29.069% ; if sex=Male : p_m= 32.855%\n",
            "Statistical parity (bias of the data set) = p_f / p_m = 0.88\n",
            "  if sex=Female : p_f = 29.069% ; if sex=Male : p_m= 32.855%\n",
            "Statistical parity (bias of the data set) = p_f / p_m = 0.88\n",
            "  if sex=Female : p_f = 29.022% ; if sex=Male : p_m= 32.827%\n",
            "Statistical parity (bias of the data set) = p_f / p_m = 0.88\n",
            "  if sex=Female : p_f = 28.855% ; if sex=Male : p_m= 32.698%\n",
            "Statistical parity (bias of the data set) = p_f / p_m = 0.88\n",
            "  if sex=Female : p_f = 28.874% ; if sex=Male : p_m= 32.712%\n",
            "Statistical parity (bias of the data set) = p_f / p_m = 0.88\n",
            "  if sex=Female : p_f = 28.883% ; if sex=Male : p_m= 32.735%\n",
            "Statistical parity (bias of the data set) = p_f / p_m = 0.88\n"
          ]
        }
      ]
    },
    {
      "cell_type": "markdown",
      "source": [
        "**Conclusion of Protected Attribute**: \n",
        "\n",
        "The kMeans algorithm seems to be less biased towards the classification of women in comparison to the original labels. In the original set, only about 1/10 women and 3/10 men belonged to '>50k'. After clustering it was about 3/10 for both women and men in the 'high-income' cluster. The impact of parameter variation (tolerance) is minimal. Although it seems to be a little more pronounced as its impact on the overall clustering accuracy."
      ],
      "metadata": {
        "id": "wHiq3u2DfqG0"
      }
    },
    {
      "cell_type": "markdown",
      "source": [
        "# **Hierarchical Clustering**"
      ],
      "metadata": {
        "id": "koduAsDIfifa"
      }
    },
    {
      "cell_type": "markdown",
      "source": [
        "## Searching for the parameters that provide the best accuracy"
      ],
      "metadata": {
        "id": "Ni4K6I0nhD_Z"
      }
    },
    {
      "cell_type": "code",
      "source": [
        "from sklearn.cluster import AgglomerativeClustering"
      ],
      "metadata": {
        "id": "0NLeUg2SLZXu"
      },
      "execution_count": null,
      "outputs": []
    },
    {
      "cell_type": "code",
      "source": [
        "\n",
        "def testing_linkage (link, aff):\n",
        "  cluster = AgglomerativeClustering(n_clusters=2, affinity=aff, linkage=link) #linkage{‘ward’, ‘complete’, ‘average’, ‘single’},\n",
        "  cluster.fit(X)\n",
        "  acc=compute_accuracy (y, cluster.labels_)\n",
        "  return acc, cluster.labels_\n",
        "\n",
        "\n",
        "\n",
        "linkages=['ward','complete','average','single']\n",
        "\n",
        "#The variable **resulting_y** will record all resulting clustering from the tests, such that after selecting one with a high enough accuracy, \n",
        "#we don't have to run it yet again to analyse its results.\n",
        "#As such, resulting_y of 0, 1, 2 and 3 will have respectivelly ward, complete, average and single linkage calculated using euclidean distances,\n",
        "#whereas resulting_y of 4, 5 and 6 will have the linkages complete, average and single using manhattan distances (ward method can only work with euclidean distances).\n",
        "\n",
        "\n",
        "resulting_y={}\n",
        "count=0\n",
        "print ('Affinity = euclidean')\n",
        "for i in linkages:\n",
        "  acc, resulting_y[count]=testing_linkage(i, 'euclidean')\n",
        "  print ('     Accuracy for method ' , i, ' is ', acc)\n",
        "  count=count+1\n",
        "  \n",
        "linkages=linkages[1:]\n",
        "print ('Affinity = manhattan')\n",
        "for i in linkages:\n",
        "  acc, resulting_y[count]=testing_linkage(i, 'manhattan')\n",
        "  print ('     Accuracy for method ' , i, ' is ', acc)\n",
        "  count=count+1\n",
        "\n"
      ],
      "metadata": {
        "colab": {
          "base_uri": "https://localhost:8080/"
        },
        "id": "pDW2zY5vgn2e",
        "outputId": "a065bf9f-2088-40cd-c4bb-0042beb23e10"
      },
      "execution_count": null,
      "outputs": [
        {
          "output_type": "stream",
          "name": "stdout",
          "text": [
            "Affinity = euclidean\n",
            "     Accuracy for method  ward  is  0.7173919719910322\n",
            "     Accuracy for method  complete  is  0.7640735849636068\n",
            "     Accuracy for method  average  is  0.7640735849636068\n",
            "     Accuracy for method  single  is  0.7640735849636068\n",
            "Affinity = manhattan\n",
            "     Accuracy for method  complete  is  0.28736832406867113\n",
            "     Accuracy for method  average  is  0.7640735849636068\n",
            "     Accuracy for method  single  is  0.7592211541414575\n"
          ]
        }
      ]
    },
    {
      "cell_type": "markdown",
      "source": [
        "We chose the metric=euclidean, linkage=average, which corresponds to the labels stored in resulting_y[2]"
      ],
      "metadata": {
        "id": "ndVk6R6Xem7l"
      }
    },
    {
      "cell_type": "markdown",
      "source": [
        "##Internal measures for hierarchical clustering: visualisation with dendrograms"
      ],
      "metadata": {
        "id": "ZHNIt0rVsN-h"
      }
    },
    {
      "cell_type": "code",
      "source": [
        "from scipy.cluster.hierarchy import dendrogram, linkage\n",
        "linkage_matrix=linkage(X, method='average', metric='euclidean')"
      ],
      "metadata": {
        "id": "dyexX4ow06U7"
      },
      "execution_count": null,
      "outputs": []
    },
    {
      "cell_type": "code",
      "source": [
        "%%script echo skipping  \n",
        "#Skipped due to long processing time\n",
        "\n",
        "\n",
        "#Plotting the dendogram with all the original data points results in an unintelligible plot, due to the high number of leafs.\n",
        "plt.figure(figsize=(10, 7))\n",
        "dendrogram(linkage_matrix,\n",
        "                orientation='top',\n",
        "                labels=y,  #because we want to see how the true labels were clustered\n",
        "                show_leaf_counts=True)\n",
        "plt.show()\n",
        "\n"
      ],
      "metadata": {
        "id": "Bd8DKva0r8Dg",
        "colab": {
          "base_uri": "https://localhost:8080/"
        },
        "outputId": "14157663-88aa-4330-b362-4467e88161ea"
      },
      "execution_count": null,
      "outputs": [
        {
          "output_type": "stream",
          "name": "stdout",
          "text": [
            "skipping\n"
          ]
        }
      ]
    },
    {
      "cell_type": "code",
      "source": [
        "#Plotting a truncated dendrogram\n",
        "plt.figure(figsize=(10, 7))\n",
        "dendrogram(linkage_matrix,\n",
        "                orientation='top',\n",
        "                labels=y,   #because we want to see how the true labels were clustered\n",
        "                truncate_mode='level', p=6)\n",
        "plt.show()"
      ],
      "metadata": {
        "id": "FJTMz9720R4W",
        "colab": {
          "base_uri": "https://localhost:8080/",
          "height": 442
        },
        "outputId": "bb2ae37c-3181-4b39-f73d-273e50d31f0c"
      },
      "execution_count": null,
      "outputs": [
        {
          "output_type": "display_data",
          "data": {
            "image/png": "[encoded data removed]",
            "text/plain": [
              "<Figure size 720x504 with 1 Axes>"
            ]
          },
          "metadata": {
            "needs_background": "light"
          }
        }
      ]
    },
    {
      "cell_type": "markdown",
      "source": [
        "##**External**"
      ],
      "metadata": {
        "id": "p4fn0BcF7xyP"
      }
    },
    {
      "cell_type": "code",
      "source": [
        "print ('The accuracy of the hierarchical clustering algorithm is', compute_accuracy(y, resulting_y[2]))"
      ],
      "metadata": {
        "id": "sARFGbDn7xyR",
        "colab": {
          "base_uri": "https://localhost:8080/"
        },
        "outputId": "162f92da-a574-4e8f-ade9-a263fdcebe8d"
      },
      "execution_count": null,
      "outputs": [
        {
          "output_type": "stream",
          "name": "stdout",
          "text": [
            "The accuracy of the hierarchical clustering algorithm is 0.7640735849636068\n"
          ]
        }
      ]
    },
    {
      "cell_type": "code",
      "source": [
        "# checking different values depending on TP/FP/TN/FN\n",
        "from sklearn.metrics import precision_recall_fscore_support\n",
        "\n",
        "scores = precision_recall_fscore_support(y, resulting_y[2], average='macro')\n",
        "metrics = ['Precision', 'Recall', 'F-Score']\n",
        "\n",
        "for string, value in zip(metrics, scores):\n",
        "  print(f'{string}: {value}')\n"
      ],
      "metadata": {
        "id": "j83pROfy7xyY",
        "colab": {
          "base_uri": "https://localhost:8080/"
        },
        "outputId": "4f49a6f5-43b9-430a-d387-ffb9cb7c1d75"
      },
      "execution_count": null,
      "outputs": [
        {
          "output_type": "stream",
          "name": "stdout",
          "text": [
            "Precision: 0.8814579346953892\n",
            "Recall: 0.51013901288101\n",
            "F-Score: 0.45263295665417874\n"
          ]
        }
      ]
    },
    {
      "cell_type": "markdown",
      "source": [
        "## *Protected attributes*"
      ],
      "metadata": {
        "id": "Rtz0aDdOlIAW"
      }
    },
    {
      "cell_type": "code",
      "source": [
        "y_pred=resulting_y[0]"
      ],
      "metadata": {
        "id": "1wu-L9aptmyo"
      },
      "execution_count": null,
      "outputs": []
    },
    {
      "cell_type": "code",
      "source": [
        "# getting imbalance for the actual labels\n",
        "print ('The probability of income > 50K in the data:')\n",
        "a, b = dist_prob_inc (X, y)\n",
        "print ('  if sex=Female : p_f = {:.3%} ; if sex=Male : p_m= {:.3%}'.format(a, b))\n",
        "print(f'Statistical parity (bias of the data set) = p_f / p_m = {round(a/b,2)}' )"
      ],
      "metadata": {
        "id": "1hMHIiv_lLao",
        "colab": {
          "base_uri": "https://localhost:8080/"
        },
        "outputId": "eab0776f-f0f4-40c1-f544-20d179f363fe"
      },
      "execution_count": null,
      "outputs": [
        {
          "output_type": "stream",
          "name": "stdout",
          "text": [
            "The probability of income > 50K in the data:\n",
            "  if sex=Female : p_f = 10.946% ; if sex=Male : p_m= 30.574%\n",
            "Statistical parity (bias of the data set) = p_f / p_m = 0.36\n"
          ]
        }
      ]
    },
    {
      "cell_type": "code",
      "source": [
        "# getting imbalance for the predicted clusters\n",
        "print ('The probability of belonging to cluster 1 in the processed data:')\n",
        "a, b = dist_prob_inc (X, y_pred)\n",
        "print ('  if sex=Female : p_f = {:.3%} ; if sex=Male : p_m= {:.3%}'.format(a, b))\n",
        "print(f'Statistical parity (bias of the clustering) = p_f / p_m = {round(a/b,2)}' )"
      ],
      "metadata": {
        "id": "jDFd96S3lLap",
        "colab": {
          "base_uri": "https://localhost:8080/"
        },
        "outputId": "29ba6f8c-9ba8-4461-bca9-a404600f2f4e"
      },
      "execution_count": null,
      "outputs": [
        {
          "output_type": "stream",
          "name": "stdout",
          "text": [
            "The probability of belonging to cluster 1 in the processed data:\n",
            "  if sex=Female : p_f = 29.849% ; if sex=Male : p_m= 34.511%\n",
            "Statistical parity (bias of the clustering) = p_f / p_m = 0.86\n"
          ]
        }
      ]
    },
    {
      "cell_type": "markdown",
      "source": [
        ""
      ],
      "metadata": {
        "id": "JCwOkmcAt7IE"
      }
    },
    {
      "cell_type": "code",
      "source": [
        ""
      ],
      "metadata": {
        "id": "yl3NEhqonLap"
      },
      "execution_count": null,
      "outputs": []
    }
  ]
}